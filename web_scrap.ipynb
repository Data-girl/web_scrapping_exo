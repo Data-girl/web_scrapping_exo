{
 "cells": [
  {
   "cell_type": "markdown",
   "metadata": {},
   "source": [
    "### WEB SCRAPPING DE L'APEC"
   ]
  },
  {
   "cell_type": "code",
   "execution_count": 1,
   "metadata": {},
   "outputs": [
    {
     "name": "stdout",
     "output_type": "stream",
     "text": [
      "Requirement already satisfied: requests in c:\\users\\jess\\desktop\\data science courses\\webscrapping\\venv\\lib\\site-packages (2.31.0)\n",
      "Requirement already satisfied: beautifulsoup4 in c:\\users\\jess\\desktop\\data science courses\\webscrapping\\venv\\lib\\site-packages (4.12.2)\n",
      "Requirement already satisfied: html5lib in c:\\users\\jess\\desktop\\data science courses\\webscrapping\\venv\\lib\\site-packages (1.1)\n",
      "Requirement already satisfied: pandas in c:\\users\\jess\\desktop\\data science courses\\webscrapping\\venv\\lib\\site-packages (2.0.3)\n",
      "Requirement already satisfied: idna<4,>=2.5 in c:\\users\\jess\\desktop\\data science courses\\webscrapping\\venv\\lib\\site-packages (from requests) (3.4)\n",
      "Requirement already satisfied: certifi>=2017.4.17 in c:\\users\\jess\\desktop\\data science courses\\webscrapping\\venv\\lib\\site-packages (from requests) (2023.5.7)\n",
      "Requirement already satisfied: urllib3<3,>=1.21.1 in c:\\users\\jess\\desktop\\data science courses\\webscrapping\\venv\\lib\\site-packages (from requests) (2.0.4)\n",
      "Requirement already satisfied: charset-normalizer<4,>=2 in c:\\users\\jess\\desktop\\data science courses\\webscrapping\\venv\\lib\\site-packages (from requests) (3.2.0)\n",
      "Requirement already satisfied: soupsieve>1.2 in c:\\users\\jess\\desktop\\data science courses\\webscrapping\\venv\\lib\\site-packages (from beautifulsoup4) (2.4.1)\n",
      "Requirement already satisfied: webencodings in c:\\users\\jess\\desktop\\data science courses\\webscrapping\\venv\\lib\\site-packages (from html5lib) (0.5.1)\n",
      "Requirement already satisfied: six>=1.9 in c:\\users\\jess\\desktop\\data science courses\\webscrapping\\venv\\lib\\site-packages (from html5lib) (1.16.0)\n",
      "Requirement already satisfied: tzdata>=2022.1 in c:\\users\\jess\\desktop\\data science courses\\webscrapping\\venv\\lib\\site-packages (from pandas) (2023.3)\n",
      "Requirement already satisfied: python-dateutil>=2.8.2 in c:\\users\\jess\\desktop\\data science courses\\webscrapping\\venv\\lib\\site-packages (from pandas) (2.8.2)\n",
      "Requirement already satisfied: pytz>=2020.1 in c:\\users\\jess\\desktop\\data science courses\\webscrapping\\venv\\lib\\site-packages (from pandas) (2023.3)\n",
      "Requirement already satisfied: numpy>=1.21.0 in c:\\users\\jess\\desktop\\data science courses\\webscrapping\\venv\\lib\\site-packages (from pandas) (1.25.1)\n"
     ]
    },
    {
     "name": "stderr",
     "output_type": "stream",
     "text": [
      "\n",
      "[notice] A new release of pip available: 22.3.1 -> 23.2\n",
      "[notice] To update, run: python.exe -m pip install --upgrade pip\n"
     ]
    }
   ],
   "source": [
    "# ! pip install requests beautifulsoup4 html5lib pandas"
   ]
  },
  {
   "cell_type": "code",
   "execution_count": 2,
   "metadata": {},
   "outputs": [],
   "source": [
    "import pandas as pd\n",
    "import requests \n",
    "from bs4 import BeautifulSoup"
   ]
  },
  {
   "cell_type": "code",
   "execution_count": 41,
   "metadata": {},
   "outputs": [],
   "source": [
    "URL = \"https://www.apec.fr/candidat/recherche-emploi.html/\"\n",
    "r = requests.get(URL)\n",
    "\n",
    "soup = BeautifulSoup(r.content, 'html5lib')\n",
    "# print(soup.prettify())\n",
    "\n",
    "table = soup.findAll('h2', attrs= { 'class' : 'card-title'})\n",
    "\n",
    "for row in table:\n",
    "    print(row.text)"
   ]
  },
  {
   "cell_type": "code",
   "execution_count": 79,
   "metadata": {},
   "outputs": [
    {
     "name": "stdout",
     "output_type": "stream",
     "text": [
      "4.7\n",
      "4.4\n",
      "4.4\n",
      "4.4\n",
      "4.2\n",
      "4.2\n",
      "4.5\n",
      "4.4\n",
      "4.1\n",
      "4.1\n",
      "4.1\n",
      "4.2\n",
      "4.5\n",
      "4.5\n",
      "4.4\n",
      "4.1\n",
      "4.5\n",
      "4.5\n",
      "3.9\n",
      "4.1\n"
     ]
    }
   ],
   "source": [
    "def get_all_pages():\n",
    "    urls = []\n",
    "    page = 75\n",
    "\n",
    "    for i in range(75,118):\n",
    "        i = f\"https://labonneboite.pole-emploi.fr/entreprises?j=%C3%89tudes+et+d%C3%A9veloppement+informatique&l=Paris+%2875%29&naf=&h=1&ij=&occupation=etudes-et-developpement-informatique&lat=&lon=&departments={page}\"\n",
    "        page += 1\n",
    "        urls.append(i)\n",
    "  \n",
    "    return urls\n",
    "\n",
    "# get_all_pages()\n",
    "\n",
    "def parse_entreprise():\n",
    "    '''Fonction qui extrait le nom des entreprises '''\n",
    "    r = requests.get(\"https://labonneboite.pole-emploi.fr/entreprises?j=%C3%89tudes+et+d%C3%A9veloppement+informatique&l=Paris+%2875%29&naf=&h=1&ij=&occupation=etudes-et-developpement-informatique&lat=&lon=&departments=75\")\n",
    "    \n",
    "    # Récupérer le contenu de la page test\n",
    "    soup = BeautifulSoup(r.content, \"html.parser\")\n",
    "    # find_all tous les éléments\n",
    "    entreprises = soup.find_all('div', class_=\"lbb-bright-container lbb-result lbb-company\")\n",
    "    # print(len(entreprises)) #nbre d'entreprise sur chaque page\n",
    "    \n",
    "\n",
    "    for entreprise in entreprises:\n",
    "        #find un seul élément\n",
    "        nom = entreprise.find('h3').text[:-11]\n",
    "        adresse = entreprise.find('span', class_=\"small\").text\n",
    "        secteur = entreprise.find('h4', class_=\"company-naf-text\").text\n",
    "        nb_employes = entreprise.find('p').text\n",
    "        potentiel_embauche = entreprise.find('span', class_=\"rating-value\").text\n",
    "        print(potentiel_embauche)\n",
    "\n",
    "parse_entreprise()"
   ]
  },
  {
   "cell_type": "code",
   "execution_count": null,
   "metadata": {},
   "outputs": [],
   "source": []
  },
  {
   "cell_type": "code",
   "execution_count": 43,
   "metadata": {},
   "outputs": [],
   "source": [
    "job = soup.find('p', attrs = { 'class' : \"card-offer__company\"})\n",
    "job\n",
    "\n",
    "# data = soup.find_all(\"card-title\")\n",
    "\n",
    "\n",
    "# df_job = pd.read_html(str(data))[0]"
   ]
  },
  {
   "cell_type": "code",
   "execution_count": 44,
   "metadata": {},
   "outputs": [],
   "source": []
  }
 ],
 "metadata": {
  "kernelspec": {
   "display_name": "venv",
   "language": "python",
   "name": "python3"
  },
  "language_info": {
   "codemirror_mode": {
    "name": "ipython",
    "version": 3
   },
   "file_extension": ".py",
   "mimetype": "text/x-python",
   "name": "python",
   "nbconvert_exporter": "python",
   "pygments_lexer": "ipython3",
   "version": "3.10.10"
  },
  "orig_nbformat": 4
 },
 "nbformat": 4,
 "nbformat_minor": 2
}
